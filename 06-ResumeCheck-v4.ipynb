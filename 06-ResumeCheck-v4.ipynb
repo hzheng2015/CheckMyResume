{
 "cells": [
  {
   "cell_type": "markdown",
   "metadata": {},
   "source": [
    "## update (02/05/2016): use Rf classification prob. as the matching degree."
   ]
  },
  {
   "cell_type": "code",
   "execution_count": 13,
   "metadata": {
    "collapsed": false
   },
   "outputs": [],
   "source": [
    "from gensim import corpora, models, similarities\n",
    "import nltk, string\n",
    "from sklearn.feature_extraction.text import TfidfVectorizer\n",
    "from matplotlib import pyplot as plt\n",
    "import gensim\n",
    "import pickle\n",
    "\n",
    "import time\n",
    "import urllib2\n",
    "from bs4 import BeautifulSoup\n",
    "import itertools\n",
    "import re\n",
    "from nltk.corpus import stopwords\n",
    "from nltk.stem.porter import PorterStemmer\n",
    "from nltk.stem import WordNetLemmatizer\n",
    "\n",
    "import psycopg2\n",
    "import pandas as pd\n",
    "import numpy as np\n",
    "import sqlalchemy as sa\n",
    "from sqlalchemy_utils import database_exists, create_database\n",
    "%matplotlib inline\n",
    "\n",
    "plt.rcParams['figure.figsize'] = 8, 5  # plotsize\n",
    "plt.rcParams['lines.linewidth'] = 2\n",
    "plt.rcParams['lines.color'] = 'r'\n",
    "plt.rcParams['font.size'] = 14\n",
    "\n",
    "def text_cleaner(html): # return a single line of cleaned text\n",
    "    '''\n",
    "    This function just cleans up the raw html.\n",
    "    Inputs: a URL to investigate\n",
    "    Outputs: Cleaned text only after parsing, tokenization, lemmerization, remove stop-words\n",
    "    '''\n",
    "    try:\n",
    "        site = urllib2.urlopen(html).read() # Connect to the job posting\n",
    "    except:\n",
    "        print \"Error loading \" + html\n",
    "        return   # Need this in case the website isn't there anymore or some other weird connection problem \n",
    "\n",
    "    soup_obj = BeautifulSoup(site,\"lxml\") # Get the html from the site\n",
    "\n",
    "    for script in soup_obj([\"script\", \"style\"]):\n",
    "        script.extract() # Remove these two elements from the BS4 object\n",
    "    \n",
    "    text = soup_obj.body.get_text('\\n') # Get the text from this\n",
    "\n",
    "    lines = (line.strip() for line in text.splitlines()) # break into lines\n",
    "#    lines = [line for i, line in enumerate(lines) if i>16]\n",
    "#    for line in lines:\n",
    "#        print line\n",
    "    chunks = (phrase.strip() for line in lines for phrase in line.split(\"  \")) # break multi-headlines into a line each\n",
    "    \n",
    "    def chunk_space(chunk):\n",
    "        chunk_out = chunk + ' ' # Need to fix spacing issue\n",
    "        return chunk_out  \n",
    "\n",
    "    text = ''.join(chunk_space(chunk) for chunk in chunks if chunk).encode('utf-8') # Get rid of all blank lines and ends of line\n",
    "\n",
    "    # Now clean out all of the unicode junk (this line works great!!!)\n",
    "    try:\n",
    "        text = text.decode('unicode_escape').encode('ascii', 'ignore') # Need this as some websites aren't formatted\n",
    "    except:                                                            # in a way that this works, can occasionally throw\n",
    "        return                                                         # an exception\n",
    "\n",
    "    text = re.sub(\"[^a-zA-Z+3]\",\" \", text)  # Now get rid of any terms that aren't words (include 3 for d3.js)\n",
    "                                                # Also include + for C++\n",
    "        \n",
    "    # remove the junk from the beginning and end parts of Indeed\n",
    "    try:\n",
    "        text = ((text.lower()).split('advanced search')[1]).split('save resume')[0]\n",
    "    except:\n",
    "        return text\n",
    "    \n",
    "    return text\n",
    "\n",
    "def Preprocessing_line(line): # perform tokenization, select noun, Lemmertization etc on a line text\n",
    "    rtext=[]    \n",
    "    for w, tag in nltk.pos_tag(nltk.word_tokenize(line.lower())):  # Tokenization\n",
    "        if tag in ['NN']:  # Keep only Nouns (for this special case)\n",
    "            rtext.append(w)\n",
    "    \n",
    "    wordnet_lemmatizer = WordNetLemmatizer()  # Lemmertization\n",
    "    rtext = [wordnet_lemmatizer.lemmatize(w) for w in rtext]\n",
    "            \n",
    "    stop_words = set(stopwords.words(\"english\")) # Filter out any stop words\n",
    "    rtext = [w for w in rtext if not w in stop_words]\n",
    "    \n",
    "    return rtext # return list of tokens"
   ]
  },
  {
   "cell_type": "markdown",
   "metadata": {},
   "source": [
    "## Similarity query in Latent Topic vector space using LSI"
   ]
  },
  {
   "cell_type": "code",
   "execution_count": 14,
   "metadata": {
    "collapsed": true
   },
   "outputs": [],
   "source": [
    "from collections import Counter\n",
    "jobclass=['Data Scientist', 'Software Engineer', 'Consultant', 'Strategy Manager']\n",
    "job2id ={}\n",
    "for i,jt in enumerate(jobclass):\n",
    "    job2id[jt]=i\n",
    "\n",
    "def LSI_Match(html,targetjob='Data Scientist'):\n",
    "    ## 1. Load the corpus dictionary, job2keywords dict, and jobs table\n",
    "    j=1\n",
    "    path = '/home/hxzheng/Insight_DS_Fellowship/Project/JobRecomm/Resume_text/'\n",
    "    dictionary = gensim.corpora.Dictionary.load(path + 'dict'+str(j)+'.dict')\n",
    "    mm = gensim.corpora.MmCorpus(path + 'corpus'+str(j)+'.mm')\n",
    "    tfidfmodel = models.TfidfModel.load(path + 'tfidfmodel'+str(j)+'.tfidf')\n",
    "    \n",
    "    jobs=pd.read_pickle(path + 'jobs_table.dat')\n",
    "    jobid2keywords = pickle.load(open(path + 'jobid2keywords_freq.txt','rb'))\n",
    "\n",
    "    ## 2. Load the trained LSI model index\n",
    "    lsi = models.LsiModel.load(path + 'final_lsimodel.lsi')\n",
    "    index = similarities.MatrixSimilarity.load(path + 'final_lsimodel.index')\n",
    "\n",
    "    ## 3. Prepare the input document\n",
    "    line = text_cleaner(html)\n",
    "#    print line\n",
    "    doc = Preprocessing_line(line)\n",
    "    vec_bow = dictionary.doc2bow(doc)\n",
    "    vec_lsi = lsi[tfidfmodel[vec_bow]] # convert the query to tfidf->LSI space\n",
    "    x_lsi = [weight for _,weight in vec_lsi]\n",
    "    \n",
    "    ## 4.Perform a resume classification and use the probability as matching degree\n",
    "    RF_Model=pd.read_pickle(path+'Final_RF_LSIMODEL.pkl')  \n",
    "    ypred_proba = RF_Model.predict_proba(x_lsi)\n",
    "    ypred_proba = ypred_proba[0]\n",
    "    \n",
    "    jobid_tj = job2id[targetjob]\n",
    "    jobid_bm = np.argmax(ypred_proba)\n",
    "    jobtitle_bm = jobclass[jobid_bm]\n",
    "    \n",
    "    matchdegree_bm = ypred_proba[jobid_bm]\n",
    "    matchdegree_tj = ypred_proba[jobid_tj]\n",
    "\n",
    "    missing_keywords_bm = [w for w in jobid2keywords[jobtitle_bm] if (' '+w+' ' not in line and w not in doc)]\n",
    "    match_keywords_bm = [w for w in jobid2keywords[jobtitle_bm] if w not in missing_keywords_bm]\n",
    "    \n",
    "#    print missing_keywords_bm\n",
    "#    print match_keywords_bm\n",
    "    \n",
    "    if targetjob==jobtitle_bm:\n",
    "        missing_keywords_tj, match_keywords_tj =missing_keywords_bm, match_keywords_bm\n",
    "    else:  # search for the target job matching prob\n",
    "        missing_keywords_tj = [w for w in jobid2keywords[targetjob] if (' '+w+' ' not in line and w not in doc)]\n",
    "        match_keywords_tj = [w for w in jobid2keywords[targetjob] if w not in missing_keywords_tj]\n",
    "    \n",
    "    return jobtitle_bm, matchdegree_bm, missing_keywords_bm, match_keywords_bm, matchdegree_tj, missing_keywords_tj,match_keywords_tj    "
   ]
  },
  {
   "cell_type": "code",
   "execution_count": 15,
   "metadata": {
    "collapsed": false
   },
   "outputs": [
    {
     "name": "stderr",
     "output_type": "stream",
     "text": [
      "/home/hxzheng/anaconda2/lib/python2.7/site-packages/sklearn/utils/validation.py:386: DeprecationWarning: Passing 1d arrays as data is deprecated in 0.17 and willraise ValueError in 0.19. Reshape your data either using X.reshape(-1, 1) if your data has a single feature or X.reshape(1, -1) if it contains a single sample.\n",
      "  DeprecationWarning)\n",
      "/home/hxzheng/anaconda2/lib/python2.7/site-packages/sklearn/utils/validation.py:386: DeprecationWarning: Passing 1d arrays as data is deprecated in 0.17 and willraise ValueError in 0.19. Reshape your data either using X.reshape(-1, 1) if your data has a single feature or X.reshape(1, -1) if it contains a single sample.\n",
      "  DeprecationWarning)\n"
     ]
    },
    {
     "name": "stdout",
     "output_type": "stream",
     "text": [
      "Matching degree with Data Scientist is 0.74\n",
      "Matching keywords are:\n",
      "['r', 'python', 'machine learning', 'algorithm', 'data mining', 'regression', 'modeling', 'hadoop', 'visualization', 'tableau', 'decision', 'java', 'sql', 'information', 'implementation', 'design', 'customer']\n",
      "Missing keywords are:\n",
      "['artificial intelligence', 'data processing', 'optimization', 'c++', 'enterprise', 'health', 'network', 'technology']\n",
      "\n",
      "\n",
      "Matching degree with Consultant is 0.07\n",
      "Matching keywords are:\n",
      "['risk', 'training', 'planning', 'information', 'design', 'integration', 'customer']\n",
      "Missing keywords are:\n",
      "['marketing', 'communication', 'organization', 'network', 'technology', 'insurance', 'inventory', 'cash', 'review', 'leadership', 'compliance', 'health care', 'preparation']\n",
      "\n",
      "\n",
      "\n",
      "Done with 3.67 seconds\n",
      "Matching degree with Software Engineer is 0.49\n",
      "Matching keywords are:\n",
      "['c++', 'code', 'implementation', 'automation', 'design', 'html', 'testing', 'architecture', 'information']\n",
      "Missing keywords are:\n",
      "['java', 'developer', 'framework', 'techonology', 'network', 'javascript', 'jquery', 'mysql', 'linux', 'ajax']\n",
      "\n",
      "\n",
      "Matching degree with Consultant is 0.34\n",
      "Matching keywords are:\n",
      "['risk', 'marketing', 'communication', 'training', 'planning', 'information', 'design', 'technology', 'integration', 'insurance', 'customer', 'cash', 'review', 'compliance', 'preparation']\n",
      "Missing keywords are:\n",
      "['organization', 'network', 'inventory', 'leadership', 'health care']\n",
      "\n",
      "\n"
     ]
    }
   ],
   "source": [
    "t=time.time()\n",
    "html = 'http://www.indeed.com/r/Vadim-s/f365459c83af555d'\n",
    "targetjob='Consultant'\n",
    "jobtitle_bm, matchdegree_bm, missing_keywords_bm, match_keywords_bm,matchdegree_tj, missing_keywords_tj,match_keywords_tj = LSI_Match(html,targetjob=targetjob)\n",
    "print \"Matching degree with %s is %.2f\"%(jobtitle_bm,matchdegree_bm)\n",
    "print \"Matching keywords are:\"\n",
    "print match_keywords_bm\n",
    "print \"Missing keywords are:\"\n",
    "print missing_keywords_bm\n",
    "print '\\n'\n",
    "print \"Matching degree with %s is %.2f\"%(targetjob,matchdegree_tj)\n",
    "print \"Matching keywords are:\"\n",
    "print match_keywords_tj\n",
    "print \"Missing keywords are:\"\n",
    "print missing_keywords_tj\n",
    "print '\\n\\n'\n",
    "print \"Done with %.2f seconds\"%(time.time()-t)\n",
    "\n",
    "html = 'http://www.indeed.com/r/Shrujal-Agrawal/eef26e9440470fc6'\n",
    "\n",
    "targetjob=\"Consultant\"\n",
    "jobtitle_bm, matchdegree_bm, missing_keywords_bm, match_keywords_bm,matchdegree_tj, missing_keywords_tj,match_keywords_tj = LSI_Match(html,targetjob=targetjob)\n",
    "print \"Matching degree with %s is %.2f\"%(jobtitle_bm,matchdegree_bm)\n",
    "print \"Matching keywords are:\"\n",
    "print match_keywords_bm\n",
    "print \"Missing keywords are:\"\n",
    "print missing_keywords_bm\n",
    "print '\\n'\n",
    "print \"Matching degree with %s is %.2f\"%(targetjob,matchdegree_tj)\n",
    "print \"Matching keywords are:\"\n",
    "print match_keywords_tj\n",
    "print \"Missing keywords are:\"\n",
    "print missing_keywords_tj\n",
    "print '\\n'"
   ]
  },
  {
   "cell_type": "markdown",
   "metadata": {},
   "source": [
    "## Similarity query in Bag-of-word vector space"
   ]
  },
  {
   "cell_type": "code",
   "execution_count": 16,
   "metadata": {
    "collapsed": true
   },
   "outputs": [],
   "source": [
    "def bow_sim(text1, text2):  #input: text1 and text2 are one-line document file\n",
    "    vectorizer = TfidfVectorizer(stop_words='english')\n",
    "    tfidf = vectorizer.fit_transform([text1, text2])\n",
    "    return ((tfidf * tfidf.T).A)[0,1]  # return the bag-of-word(bow) similarity score [0,1]"
   ]
  },
  {
   "cell_type": "code",
   "execution_count": 17,
   "metadata": {
    "collapsed": true
   },
   "outputs": [],
   "source": [
    "def mostsim(doc, Corpusfile, num=10):\n",
    "    path = '/home/hxzheng/Insight_DS_Fellowship/Project/JobRecomm/Resume_text/'\n",
    "    scores=[]\n",
    "    texts = pd.read_pickle(path + 'texts_b4tfidf.txt')\n",
    "    for line in f:\n",
    "        scores.append( bow_sim(doc, ''.join(line)) )\n",
    "        \n",
    "    docnum=sorted(range(len(scores)), key=lambda i: scores[i], reverse=True)[:num]   \n",
    "    f.close()\n",
    "    \n",
    "    return sorted(scores, reverse=True)[:num], docnum"
   ]
  },
  {
   "cell_type": "code",
   "execution_count": 18,
   "metadata": {
    "collapsed": true
   },
   "outputs": [],
   "source": [
    "# Return num_topics most significant topics. For each topic, show num_words most significant words\n",
    "# lsi.show_topics(num_topics=-1, num_words=10)"
   ]
  },
  {
   "cell_type": "code",
   "execution_count": 19,
   "metadata": {
    "collapsed": false
   },
   "outputs": [
    {
     "data": {
      "text/plain": [
       "['c++',\n",
       " 'code',\n",
       " 'implementation',\n",
       " 'automation',\n",
       " 'design',\n",
       " 'html',\n",
       " 'testing',\n",
       " 'architecture',\n",
       " 'information']"
      ]
     },
     "execution_count": 19,
     "metadata": {},
     "output_type": "execute_result"
    }
   ],
   "source": [
    "match_keywords_bm"
   ]
  },
  {
   "cell_type": "code",
   "execution_count": 20,
   "metadata": {
    "collapsed": false
   },
   "outputs": [
    {
     "name": "stderr",
     "output_type": "stream",
     "text": [
      "/home/hxzheng/anaconda2/lib/python2.7/site-packages/PIL/ImageDraw.py:104: UserWarning: setfont() is deprecated. Please set the attribute directly instead.\n",
      "  \"Please set the attribute directly instead.\")\n"
     ]
    },
    {
     "data": {
      "image/png": "[encoded data removed]",
      "text/plain": [
       "<matplotlib.figure.Figure at 0x7f7c0f1c5150>"
      ]
     },
     "metadata": {},
     "output_type": "display_data"
    }
   ],
   "source": [
    "from PIL import Image\n",
    "from wordcloud import WordCloud, STOPWORDS\n",
    "\n",
    "text1 = ' '.join(match_keywords_bm)\n",
    "text2 = ' '.join(missing_keywords_bm)\n",
    "\n",
    "fig = plt.figure()\n",
    "\n",
    "wordcloud1 = WordCloud(\n",
    "                      stopwords=STOPWORDS,\n",
    "                      background_color='white',\n",
    "                      width=1800,\n",
    "                      height=1400\n",
    "                     ).generate(text1)\n",
    "wordcloud2 = WordCloud(\n",
    "                      stopwords=STOPWORDS,\n",
    "                      background_color='white',\n",
    "                      width=1800,\n",
    "                      height=1400\n",
    "                     ).generate(text2)\n",
    "\n",
    "plt.subplot(121)\n",
    "plt.imshow(wordcloud1)\n",
    "plt.axis('off')\n",
    "plt.title('Matching Keywords')\n",
    "\n",
    "plt.subplot(122)\n",
    "plt.imshow(wordcloud2)\n",
    "plt.axis('off')\n",
    "plt.title('Missing Keywords')\n",
    "\n",
    "plt.savefig('./misskeywords_wordcloud_1.png', dpi=300)\n",
    "plt.show()\n"
   ]
  },
  {
   "cell_type": "code",
   "execution_count": 21,
   "metadata": {
    "collapsed": true
   },
   "outputs": [],
   "source": [
    "fig.savefig('./misskeywords_wordcloud_2.png', dpi=300)"
   ]
  }
 ],
 "metadata": {
  "kernelspec": {
   "display_name": "Python 2",
   "language": "python",
   "name": "python2"
  },
  "language_info": {
   "codemirror_mode": {
    "name": "ipython",
    "version": 2
   },
   "file_extension": ".py",
   "mimetype": "text/x-python",
   "name": "python",
   "nbconvert_exporter": "python",
   "pygments_lexer": "ipython2",
   "version": "2.7.11"
  }
 },
 "nbformat": 4,
 "nbformat_minor": 0
}
