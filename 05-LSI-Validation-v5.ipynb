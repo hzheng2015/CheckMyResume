{
 "cells": [
  {
   "cell_type": "code",
   "execution_count": 1,
   "metadata": {
    "collapsed": false
   },
   "outputs": [
    {
     "name": "stderr",
     "output_type": "stream",
     "text": [
      "WARNING (theano.configdefaults): g++ not detected ! Theano will be unable to execute optimized C-implementations (for both CPU and GPU) and will default to Python implementations. Performance will be severely degraded. To remove this warning, set Theano flags cxx to an empty string.\n",
      "WARNING:theano.configdefaults:g++ not detected ! Theano will be unable to execute optimized C-implementations (for both CPU and GPU) and will default to Python implementations. Performance will be severely degraded. To remove this warning, set Theano flags cxx to an empty string.\n"
     ]
    }
   ],
   "source": [
    "from gensim import corpora, models, similarities\n",
    "import nltk, string\n",
    "from sklearn.feature_extraction.text import TfidfVectorizer\n",
    "from matplotlib import pyplot as plt\n",
    "import logging, gensim\n",
    "import pickle\n",
    "from sklearn import metrics\n",
    "\n",
    "import time\n",
    "import urllib2\n",
    "from bs4 import BeautifulSoup\n",
    "import itertools\n",
    "import re\n",
    "from nltk.corpus import stopwords\n",
    "from nltk.stem.porter import PorterStemmer\n",
    "from nltk.stem import WordNetLemmatizer\n",
    "from sklearn.ensemble import RandomForestClassifier \n",
    "from sklearn.cross_validation import StratifiedKFold,cross_val_score\n",
    "from sklearn.grid_search import GridSearchCV\n",
    "from mpl_toolkits.mplot3d import axes3d\n",
    "import matplotlib.pyplot as plt\n",
    "from matplotlib import cm\n",
    "\n",
    "import psycopg2\n",
    "import pandas as pd\n",
    "import numpy as np\n",
    "import sqlalchemy as sa\n",
    "from sqlalchemy_utils import database_exists, create_database\n",
    "%matplotlib inline\n",
    "\n",
    "plt.rcParams['figure.figsize'] = 10, 8  # plotsize\n",
    "plt.rcParams['lines.linewidth'] = 2\n",
    "plt.rcParams['lines.color'] = 'r'\n",
    "plt.rcParams['font.size'] = 14\n",
    "\n",
    "logging.basicConfig(format='%(asctime)s : %(levelname)s : %(message)s', level=logging.INFO)"
   ]
  },
  {
   "cell_type": "markdown",
   "metadata": {},
   "source": [
    "### V5: consider using the classification probability as the matching degree (different from V4)"
   ]
  },
  {
   "cell_type": "code",
   "execution_count": 2,
   "metadata": {
    "collapsed": true
   },
   "outputs": [],
   "source": [
    "def LSI_tfidf_model(dictionary, mm, tfidfmodel, num_topics=200):\n",
    "    corpus_tfidf = tfidfmodel[mm]  # transform to tfidf space and then perform LSI\n",
    "    \n",
    "    lsimodel = models.LsiModel(corpus_tfidf, id2word=dictionary, num_topics=num_topics) # initialize an LSI transformation\n",
    "    lsimodel.show_topics(num_topics=10, num_words=20)\n",
    "    lsimodel.print_topics(num_topics=5, num_words=10)\n",
    "    \n",
    "    corpus_lsi = lsimodel[corpus_tfidf] # doc-topic matrix in LSI space\n",
    "    \n",
    "    index = similarities.MatrixSimilarity(corpus_lsi) # transform corpus to LSI\n",
    "    \n",
    "    return lsimodel, corpus_lsi, index  # all in the tfidf space (instead of bag-of-words)"
   ]
  },
  {
   "cell_type": "markdown",
   "metadata": {},
   "source": [
    "## Validation through text classification using document-topic matrix"
   ]
  },
  {
   "cell_type": "markdown",
   "metadata": {},
   "source": [
    "### load the jobs table"
   ]
  },
  {
   "cell_type": "code",
   "execution_count": 3,
   "metadata": {
    "collapsed": true
   },
   "outputs": [],
   "source": [
    "path = '/home/hxzheng/Insight_DS_Fellowship/Project/JobRecomm/Resume_text/'"
   ]
  },
  {
   "cell_type": "code",
   "execution_count": 4,
   "metadata": {
    "collapsed": false
   },
   "outputs": [
    {
     "name": "stderr",
     "output_type": "stream",
     "text": [
      "WARNING:gensim.similarities.docsim:scanning corpus to determine the number of features (consider setting `num_features` explicitly)\n"
     ]
    }
   ],
   "source": [
    "j=0\n",
    "num_topics=50\n",
    "jobs=pd.read_pickle(path + \"jobs_table.dat\") \n",
    "dictionary = gensim.corpora.Dictionary.load(path + 'dict'+str(j)+'.dict')\n",
    "mm = gensim.corpora.MmCorpus(path + 'corpus'+str(j)+'.mm')\n",
    "tfidfmodel = models.TfidfModel.load(path + 'tfidfmodel'+str(j)+'.tfidf')\n",
    "\n",
    "lsimodel,corpus_lsi,index = LSI_tfidf_model(dictionary, mm, tfidfmodel, num_topics=num_topics)"
   ]
  },
  {
   "cell_type": "code",
   "execution_count": 5,
   "metadata": {
    "collapsed": true
   },
   "outputs": [],
   "source": [
    "### save index for later similarity queries\n",
    "\n",
    "index.save(path + 'final_lsimodel.index')\n",
    "lsimodel.save(path + 'final_lsimodel.lsi')"
   ]
  },
  {
   "cell_type": "code",
   "execution_count": 6,
   "metadata": {
    "collapsed": true
   },
   "outputs": [],
   "source": [
    "xtrain, ytrain = [], []\n",
    "for i,doc_lsi in enumerate(corpus_lsi):\n",
    "    if doc_lsi!=[]:                              # filter out empty documents\n",
    "        xtrain.append([w[1] for w in doc_lsi])\n",
    "        ytrain.append(jobs.ix[i]['jobid'])\n",
    "\n",
    "xtrain = np.array(xtrain)\n",
    "ytrain = np.array(ytrain)"
   ]
  },
  {
   "cell_type": "code",
   "execution_count": 10,
   "metadata": {
    "collapsed": false,
    "scrolled": true
   },
   "outputs": [
    {
     "data": {
      "text/plain": [
       "(4,)"
      ]
     },
     "execution_count": 10,
     "metadata": {},
     "output_type": "execute_result"
    }
   ],
   "source": [
    "np.unique(ytrain).shape"
   ]
  },
  {
   "cell_type": "code",
   "execution_count": 14,
   "metadata": {
    "collapsed": false,
    "scrolled": true
   },
   "outputs": [
    {
     "data": {
      "text/plain": [
       "2816"
      ]
     },
     "execution_count": 14,
     "metadata": {},
     "output_type": "execute_result"
    }
   ],
   "source": [
    "ytrain.shape[0]"
   ]
  },
  {
   "cell_type": "code",
   "execution_count": 15,
   "metadata": {
    "collapsed": false
   },
   "outputs": [],
   "source": [
    "KFoldNumber=10\n",
    "kfold = StratifiedKFold(ytrain, KFoldNumber,shuffle=True, random_state = 100)\n",
    "ycv=np.zeros(ytrain.shape)\n",
    "ycv_proba=np.zeros((ytrain.shape[0],np.unique(ytrain).shape[0]))"
   ]
  },
  {
   "cell_type": "code",
   "execution_count": 16,
   "metadata": {
    "collapsed": true
   },
   "outputs": [],
   "source": [
    "for train,cv in kfold:\n",
    "    x = xtrain[train,:]\n",
    "    y = ytrain[train]\n",
    "    xcv = xtrain[cv,:]\n",
    "    RF = RandomForestClassifier(n_estimators = 500, n_jobs = -1,random_state =100, \\\n",
    "                                    max_features = \"auto\", min_samples_leaf = 1)\n",
    "    RF = RF.fit(x,y)\n",
    "    ycv[cv] = RF.predict(xcv)\n",
    "    ycv_proba[cv,:]=RF.predict_proba(xcv)"
   ]
  },
  {
   "cell_type": "code",
   "execution_count": 17,
   "metadata": {
    "collapsed": false
   },
   "outputs": [
    {
     "name": "stdout",
     "output_type": "stream",
     "text": [
      "0.869673295455\n"
     ]
    }
   ],
   "source": [
    "print(metrics.accuracy_score(ytrain, ycv))"
   ]
  },
  {
   "cell_type": "code",
   "execution_count": 20,
   "metadata": {
    "collapsed": false,
    "scrolled": true
   },
   "outputs": [
    {
     "name": "stdout",
     "output_type": "stream",
     "text": [
      "[[ 0.9    0.034  0.024  0.042]\n",
      " [ 0.834  0.04   0.07   0.056]\n",
      " [ 0.948  0.028  0.016  0.008]\n",
      " [ 0.892  0.062  0.024  0.022]\n",
      " [ 0.818  0.05   0.102  0.03 ]\n",
      " [ 0.928  0.012  0.046  0.014]\n",
      " [ 0.484  0.092  0.28   0.144]\n",
      " [ 0.754  0.048  0.102  0.096]\n",
      " [ 0.628  0.19   0.138  0.044]\n",
      " [ 0.906  0.05   0.028  0.016]\n",
      " [ 0.866  0.026  0.09   0.018]\n",
      " [ 0.064  0.782  0.114  0.04 ]\n",
      " [ 0.774  0.052  0.092  0.082]\n",
      " [ 0.682  0.024  0.146  0.148]\n",
      " [ 0.96   0.01   0.018  0.012]\n",
      " [ 0.364  0.048  0.416  0.172]\n",
      " [ 0.926  0.02   0.022  0.032]\n",
      " [ 0.94   0.022  0.026  0.012]\n",
      " [ 0.916  0.024  0.024  0.036]\n",
      " [ 0.274  0.116  0.24   0.37 ]]\n"
     ]
    }
   ],
   "source": [
    "print ycv_proba[:20,:]"
   ]
  },
  {
   "cell_type": "code",
   "execution_count": 21,
   "metadata": {
    "collapsed": false
   },
   "outputs": [
    {
     "name": "stdout",
     "output_type": "stream",
     "text": [
      "[0 1 2 3]\n",
      "[ 0.02461554  0.19099239  0.18826219  0.06978283  0.03872317  0.02216745\n",
      "  0.03754882  0.01682945  0.0346032   0.0152402   0.01163731  0.01320426\n",
      "  0.01339887  0.01224071  0.01175545  0.01378599  0.01420356  0.01127215\n",
      "  0.00973042  0.01021504  0.00841038  0.00919486  0.00868992  0.00876935\n",
      "  0.00723061  0.01819798  0.01130084  0.00717926  0.00832772  0.00743308\n",
      "  0.00794866  0.00719824  0.00821748  0.00724926  0.0076023   0.00781575\n",
      "  0.0068856   0.0080054   0.00682558  0.00700302  0.00683376  0.00595592\n",
      "  0.00716679  0.00642621  0.00780995  0.00720056  0.00813781  0.0068689\n",
      "  0.00770501  0.00620077]\n"
     ]
    }
   ],
   "source": [
    "print RF.classes_\n",
    "print RF.feature_importances_"
   ]
  },
  {
   "cell_type": "code",
   "execution_count": 22,
   "metadata": {
    "collapsed": false,
    "scrolled": true
   },
   "outputs": [
    {
     "name": "stdout",
     "output_type": "stream",
     "text": [
      "[0 0 0 0 0 0 0 0 0 0 0 0 0 0 0 0 0 0 0 0 0 0 0 0 0 0 0 0 0 0 0 0 0 0 0 0 0\n",
      " 0 0 0 0 0 0 0 0 0 0 0 0 0]\n",
      "[ 0.  0.  0.  0.  0.  0.  0.  0.  0.  0.  0.  1.  0.  0.  0.  2.  0.  0.\n",
      "  0.  3.  0.  0.  0.  1.  0.  0.  0.  0.  0.  0.  1.  2.  0.  0.  0.  0.\n",
      "  0.  0.  0.  0.  0.  0.  0.  0.  0.  0.  0.  0.  0.  0.]\n"
     ]
    }
   ],
   "source": [
    "print ytrain[0:50]\n",
    "print ycv[0:50]"
   ]
  },
  {
   "cell_type": "code",
   "execution_count": 23,
   "metadata": {
    "collapsed": false
   },
   "outputs": [
    {
     "name": "stdout",
     "output_type": "stream",
     "text": [
      "0 Data Scientist\n",
      "1 Software Engineer\n",
      "2 Consultant\n",
      "3 Strategy Manager\n",
      "[array([622,  24,  29,  16]), array([ 17, 646,  25,   2]), array([ 29,  70, 524,  84]), array([  6,   3,  62, 657])]\n"
     ]
    }
   ],
   "source": [
    "ycv_counts = []\n",
    "jobtitles = jobs['jobtitle'].unique()\n",
    "for jid,jtitle in enumerate(jobtitles):\n",
    "    print jid,jtitle\n",
    "    ind = np.where(ytrain == jid)[0]\n",
    "    ycv_ind = pd.Series(ycv[ind])\n",
    "    count = ycv_ind.value_counts()\n",
    "    count = np.unique(ycv[ind],return_counts=True)\n",
    "    ycv_counts.append(count[1])\n",
    "print ycv_counts   "
   ]
  },
  {
   "cell_type": "code",
   "execution_count": 24,
   "metadata": {
    "collapsed": false
   },
   "outputs": [
    {
     "data": {
      "image/png": "[encoded data removed]",
      "text/plain": [
       "<matplotlib.figure.Figure at 0x7f7ff2aff7d0>"
      ]
     },
     "metadata": {},
     "output_type": "display_data"
    }
   ],
   "source": [
    "## make plot\n",
    "ind = np.arange(len(jobtitles))  # the x locations for the groups\n",
    "width = 0.2       # the width of the bars\n",
    "fig, ax = plt.subplots()\n",
    "colors = ['b','r','g','m']\n",
    "\n",
    "def autolabel(rects):\n",
    "    for rect in rects:\n",
    "        h = rect.get_height()\n",
    "        ax.text(rect.get_x()+rect.get_width()/2., 1.01*h, '%d'%int(h),\n",
    "                ha='center', va='bottom')\n",
    "        \n",
    "for i in range(len(jobtitles)):\n",
    "    rects=ax.bar(ind+i*width, ycv_counts[i], width, color=colors[i])\n",
    "    autolabel(rects)\n",
    "    \n",
    "fs=15\n",
    "ax.set_ylabel('Predicted Resume Class',fontsize=fs)\n",
    "ax.set_xticks(ind + 2*width)\n",
    "ax.set_xticklabels(jobtitles,fontsize=fs)\n",
    "ax.set_ylim(0,920)\n",
    "\n",
    "ax.legend(jobtitles,fontsize=fs)\n",
    "fig.savefig(path + 'finalclassification.png', bbox_inches='tight')"
   ]
  },
  {
   "cell_type": "code",
   "execution_count": null,
   "metadata": {
    "collapsed": true
   },
   "outputs": [],
   "source": []
  },
  {
   "cell_type": "code",
   "execution_count": null,
   "metadata": {
    "collapsed": true
   },
   "outputs": [],
   "source": []
  }
 ],
 "metadata": {
  "kernelspec": {
   "display_name": "Python 2",
   "language": "python",
   "name": "python2"
  },
  "language_info": {
   "codemirror_mode": {
    "name": "ipython",
    "version": 2
   },
   "file_extension": ".py",
   "mimetype": "text/x-python",
   "name": "python",
   "nbconvert_exporter": "python",
   "pygments_lexer": "ipython2",
   "version": "2.7.11"
  }
 },
 "nbformat": 4,
 "nbformat_minor": 0
}
