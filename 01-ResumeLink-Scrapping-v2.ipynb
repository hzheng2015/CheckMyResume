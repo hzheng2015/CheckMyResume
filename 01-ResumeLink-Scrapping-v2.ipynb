{
 "cells": [
  {
   "cell_type": "code",
   "execution_count": 1,
   "metadata": {
    "collapsed": false
   },
   "outputs": [],
   "source": [
    "import urllib2\n",
    "from bs4 import BeautifulSoup\n",
    "import itertools\n",
    "import time\n",
    "\n",
    "import psycopg2\n",
    "import pandas as pd\n",
    "import numpy as np\n",
    "import sqlalchemy as sa\n",
    "from sqlalchemy_utils import database_exists, create_database\n",
    "\n",
    "import matplotlib.pyplot as plt\n",
    "%matplotlib inline\n",
    "plt.rcParams['figure.figsize'] = 12, 8  # plotsize\n",
    "plt.rcParams['lines.linewidth'] = 2\n",
    "plt.rcParams['lines.color'] = 'r'\n",
    "plt.rcParams['font.size'] = 14\n",
    "\n",
    "pd.set_option('display.max_columns', 500)"
   ]
  },
  {
   "cell_type": "code",
   "execution_count": 2,
   "metadata": {
    "collapsed": true
   },
   "outputs": [],
   "source": [
    "# For later page i: use page1 + \"&start=\" + str(50*i)\n",
    "\n",
    "def Scrape_Indeed(resume_search_page1,total_resumes=950):\n",
    "    resume_per_page = 50\n",
    "    npages = total_resumes/resume_per_page + (total_resumes%resume_per_page>0)\n",
    "\n",
    "    resume_links=[]\n",
    "    prefix = 'http://www.indeed.com'\n",
    "    print \"starting downloading \"+resume_search_page1 \n",
    "    for i in range(npages):\n",
    "        search_page = resume_search_page1 if i==0 else (resume_search_page1 + \"&start=\" + str(50*i))\n",
    "\n",
    "        try:\n",
    "            page = urllib2.urlopen( search_page )\n",
    "        except:\n",
    "            print 'Error openning'+ search_page \n",
    "            continue\n",
    "            \n",
    "        soup = BeautifulSoup(page,\"html.parser\")\n",
    "        #print soup.prettify()\n",
    "        all_links=soup.find_all('a',class_='app_link')\n",
    "#        print len(all_links) # expect 50 resumes per page\n",
    "\n",
    "        for link in all_links:\n",
    "            href = prefix + link.get(\"href\")\n",
    "            if href not in resume_links:  # somehow, some resumes show up more than once\n",
    "                resume_links.append(href)\n",
    "        \n",
    "        time.sleep(1)\n",
    "    return resume_links    "
   ]
  },
  {
   "cell_type": "code",
   "execution_count": 3,
   "metadata": {
    "collapsed": true
   },
   "outputs": [],
   "source": [
    "# http for selected hot jobs\n",
    "\n",
    "# 1. Data Scientist\n",
    "DS1=(985, 'http://www.indeed.com/resumes?q=title%3A(data+scientist)&co=US&rb=yoe%3A25')\n",
    "\n",
    "# 2. Software Engineer\n",
    "SE1=(1000, 'http://www.indeed.com/resumes?q=title%3A(Senior+Software+Engineer)&co=US&rb=jtid%3A1422%2Cyoe%3A61-120')\n",
    "\n",
    "# 3. Consultant\n",
    "Con1=(1000, 'http://www.indeed.com/resumes?q=title%3AConsultant&co=US&rb=jtid%3A281%7C2051%2Cyoe%3A61-120')\n",
    "\n",
    "# 4. Strategy Manager\n",
    "SM1=(1000, 'http://www.indeed.com/resumes?q=%22Strategy+Manager%22+-Consultant+anytitle%3A%28Strategy+Manager%29&co=US')"
   ]
  },
  {
   "cell_type": "code",
   "execution_count": 4,
   "metadata": {
    "collapsed": false
   },
   "outputs": [
    {
     "name": "stdout",
     "output_type": "stream",
     "text": [
      "4\n",
      "4\n"
     ]
    }
   ],
   "source": [
    "Jobs=['Data Scientist','Software Engineer','Consultant','Strategy Manager']\n",
    "print(len(Jobs))\n",
    "Links=[DS1,SE1,Con1,SM1]\n",
    "print(len(Links))"
   ]
  },
  {
   "cell_type": "code",
   "execution_count": 5,
   "metadata": {
    "collapsed": false
   },
   "outputs": [
    {
     "name": "stdout",
     "output_type": "stream",
     "text": [
      "starting downloading http://www.indeed.com/resumes?q=title%3A(data+scientist)&co=US&rb=yoe%3A25\n",
      "50\n",
      "50\n",
      "50\n",
      "50\n",
      "50\n",
      "50\n",
      "50\n",
      "50\n",
      "50\n",
      "50\n",
      "50\n",
      "50\n",
      "50\n",
      "50\n",
      "50\n",
      "50\n",
      "50\n",
      "50\n",
      "50\n",
      "35\n",
      "Done with 717 Data Scientist resumes in 0.55!\n",
      "starting downloading http://www.indeed.com/resumes?q=title%3A(Senior+Software+Engineer)&co=US&rb=jtid%3A1422%2Cyoe%3A61-120\n",
      "50\n",
      "50\n",
      "50\n",
      "50\n",
      "50\n",
      "50\n",
      "50\n",
      "50\n",
      "50\n",
      "50\n",
      "50\n",
      "50\n",
      "50\n",
      "50\n",
      "50\n",
      "50\n",
      "50\n",
      "50\n",
      "50\n",
      "50\n",
      "Done with 808 Software Engineer resumes in 0.58!\n",
      "starting downloading http://www.indeed.com/resumes?q=title%3AConsultant&co=US&rb=jtid%3A281%7C2051%2Cyoe%3A61-120\n",
      "50\n",
      "50\n",
      "50\n",
      "50\n",
      "50\n",
      "50\n",
      "50\n",
      "50\n",
      "50\n",
      "50\n",
      "50\n",
      "50\n",
      "50\n",
      "50\n",
      "50\n",
      "50\n",
      "50\n",
      "50\n",
      "50\n",
      "50\n",
      "Done with 802 Consultant resumes in 0.76!\n",
      "starting downloading http://www.indeed.com/resumes?q=%22Strategy+Manager%22+-Consultant+anytitle%3A%28Strategy+Manager%29&co=US\n",
      "50\n",
      "50\n",
      "50\n",
      "50\n",
      "50\n",
      "50\n",
      "50\n",
      "50\n",
      "50\n",
      "50\n",
      "50\n",
      "50\n",
      "50\n",
      "50\n",
      "50\n",
      "50\n",
      "50\n",
      "50\n",
      "50\n",
      "50\n",
      "Done with 751 Strategy Manager resumes in 0.70!\n"
     ]
    }
   ],
   "source": [
    "resume_links=[]\n",
    "job_classes=[]\n",
    "\n",
    "for i,(npages, link) in enumerate(Links):\n",
    "    t=time.time()\n",
    "    \n",
    "    html_link=Scrape_Indeed(link,npages)\n",
    "    html_link=list(set(html_link))\n",
    "    nresumes=len(html_link)\n",
    "    \n",
    "    job_classes.append([Jobs[i]]*nresumes)\n",
    "    resume_links.append( html_link )\n",
    "    \n",
    "    elapsed = (time.time() - t)/60    \n",
    "    print \"Done with %d %s resumes in %.2f!\"%(nresumes,Jobs[i],elapsed)\n",
    "    \n",
    "resume_links = list(itertools.chain(*resume_links))\n",
    "job_classes = list(itertools.chain(*job_classes))"
   ]
  },
  {
   "cell_type": "code",
   "execution_count": 6,
   "metadata": {
    "collapsed": false
   },
   "outputs": [
    {
     "name": "stdout",
     "output_type": "stream",
     "text": [
      "3078\n",
      "3078\n"
     ]
    }
   ],
   "source": [
    "print len(resume_links)\n",
    "print len(job_classes)"
   ]
  },
  {
   "cell_type": "code",
   "execution_count": 7,
   "metadata": {
    "collapsed": false
   },
   "outputs": [
    {
     "data": {
      "text/plain": [
       "['Data Scientist',\n",
       " 'Data Scientist',\n",
       " 'Data Scientist',\n",
       " 'Data Scientist',\n",
       " 'Data Scientist']"
      ]
     },
     "execution_count": 7,
     "metadata": {},
     "output_type": "execute_result"
    }
   ],
   "source": [
    "job_classes[:5]"
   ]
  },
  {
   "cell_type": "markdown",
   "metadata": {},
   "source": [
    "## Create database to store resume links"
   ]
  },
  {
   "cell_type": "code",
   "execution_count": 8,
   "metadata": {
    "collapsed": false
   },
   "outputs": [
    {
     "name": "stdout",
     "output_type": "stream",
     "text": [
      "True\n"
     ]
    }
   ],
   "source": [
    "IndeedResume = sa.create_engine(\"postgres://%s@localhost/%s\"%('hxzheng','indeed'))\n",
    "## create a database (if it doesn't exist)\n",
    "if not database_exists(IndeedResume.url):\n",
    "    create_database(IndeedResume.url)\n",
    "print(database_exists(IndeedResume.url))"
   ]
  },
  {
   "cell_type": "code",
   "execution_count": 9,
   "metadata": {
    "collapsed": false
   },
   "outputs": [],
   "source": [
    "indeed_df = pd.DataFrame(resume_links, columns = ['resume_url'])\n",
    "indeed_df['job_class']=job_classes\n",
    "indeed_df.to_sql('resume_table2', IndeedResume, if_exists='replace')"
   ]
  },
  {
   "cell_type": "code",
   "execution_count": 10,
   "metadata": {
    "collapsed": false
   },
   "outputs": [
    {
     "data": {
      "text/html": [
       "<div>\n",
       "<table border=\"1\" class=\"dataframe\">\n",
       "  <thead>\n",
       "    <tr style=\"text-align: right;\">\n",
       "      <th></th>\n",
       "      <th>index</th>\n",
       "      <th>resume_url</th>\n",
       "      <th>job_class</th>\n",
       "    </tr>\n",
       "  </thead>\n",
       "  <tbody>\n",
       "    <tr>\n",
       "      <th>0</th>\n",
       "      <td>0</td>\n",
       "      <td>http://www.indeed.com/r/Vikas-Patil/d9dc3f1bd6...</td>\n",
       "      <td>Data Scientist</td>\n",
       "    </tr>\n",
       "    <tr>\n",
       "      <th>1</th>\n",
       "      <td>1</td>\n",
       "      <td>http://www.indeed.com/r/Robert-Sousek/f78d89b0...</td>\n",
       "      <td>Data Scientist</td>\n",
       "    </tr>\n",
       "    <tr>\n",
       "      <th>2</th>\n",
       "      <td>2</td>\n",
       "      <td>http://www.indeed.com/me/Kris_I_Ford?sp=0</td>\n",
       "      <td>Data Scientist</td>\n",
       "    </tr>\n",
       "    <tr>\n",
       "      <th>3</th>\n",
       "      <td>3</td>\n",
       "      <td>http://www.indeed.com/r/Joydeep-Singh/ca6d4c0d...</td>\n",
       "      <td>Data Scientist</td>\n",
       "    </tr>\n",
       "    <tr>\n",
       "      <th>4</th>\n",
       "      <td>4</td>\n",
       "      <td>http://www.indeed.com/r/Ahmad-Nahhas/b9b9970cc...</td>\n",
       "      <td>Data Scientist</td>\n",
       "    </tr>\n",
       "  </tbody>\n",
       "</table>\n",
       "</div>"
      ],
      "text/plain": [
       "   index                                         resume_url       job_class\n",
       "0      0  http://www.indeed.com/r/Vikas-Patil/d9dc3f1bd6...  Data Scientist\n",
       "1      1  http://www.indeed.com/r/Robert-Sousek/f78d89b0...  Data Scientist\n",
       "2      2          http://www.indeed.com/me/Kris_I_Ford?sp=0  Data Scientist\n",
       "3      3  http://www.indeed.com/r/Joydeep-Singh/ca6d4c0d...  Data Scientist\n",
       "4      4  http://www.indeed.com/r/Ahmad-Nahhas/b9b9970cc...  Data Scientist"
      ]
     },
     "execution_count": 10,
     "metadata": {},
     "output_type": "execute_result"
    }
   ],
   "source": [
    "con = psycopg2.connect(database = 'indeed', user ='hxzheng',host='/tmp/')\n",
    "\n",
    "sql_query = \"\"\"\n",
    "SELECT * FROM resume_table2;\n",
    "\"\"\"\n",
    "resumes = pd.read_sql_query(sql_query,con)\n",
    "resumes.head()"
   ]
  },
  {
   "cell_type": "code",
   "execution_count": 11,
   "metadata": {
    "collapsed": false
   },
   "outputs": [
    {
     "data": {
      "text/plain": [
       "<matplotlib.text.Text at 0x7faf023ef190>"
      ]
     },
     "execution_count": 11,
     "metadata": {},
     "output_type": "execute_result"
    },
    {
     "data": {
      "image/png": "[encoded data removed]",
      "text/plain": [
       "<matplotlib.figure.Figure at 0x7faf01798f50>"
      ]
     },
     "metadata": {},
     "output_type": "display_data"
    }
   ],
   "source": [
    "histgram_jobclass=resumes['job_class'].value_counts().plot(kind='bar')\n",
    "histgram_jobclass.set_ylabel('Number of Resumes')"
   ]
  }
 ],
 "metadata": {
  "kernelspec": {
   "display_name": "Python 2",
   "language": "python",
   "name": "python2"
  },
  "language_info": {
   "codemirror_mode": {
    "name": "ipython",
    "version": 2
   },
   "file_extension": ".py",
   "mimetype": "text/x-python",
   "name": "python",
   "nbconvert_exporter": "python",
   "pygments_lexer": "ipython2",
   "version": "2.7.11"
  }
 },
 "nbformat": 4,
 "nbformat_minor": 0
}
