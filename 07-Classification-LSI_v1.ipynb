{
 "cells": [
  {
   "cell_type": "code",
   "execution_count": 1,
   "metadata": {
    "collapsed": false
   },
   "outputs": [
    {
     "name": "stderr",
     "output_type": "stream",
     "text": [
      "WARNING (theano.configdefaults): g++ not detected ! Theano will be unable to execute optimized C-implementations (for both CPU and GPU) and will default to Python implementations. Performance will be severely degraded. To remove this warning, set Theano flags cxx to an empty string.\n",
      "WARNING:theano.configdefaults:g++ not detected ! Theano will be unable to execute optimized C-implementations (for both CPU and GPU) and will default to Python implementations. Performance will be severely degraded. To remove this warning, set Theano flags cxx to an empty string.\n"
     ]
    }
   ],
   "source": [
    "from gensim import corpora, models, similarities\n",
    "import nltk, string\n",
    "from sklearn.feature_extraction.text import TfidfVectorizer\n",
    "from matplotlib import pyplot as plt\n",
    "import logging, gensim\n",
    "import pickle\n",
    "from sklearn import metrics\n",
    "\n",
    "import time\n",
    "import urllib2\n",
    "from bs4 import BeautifulSoup\n",
    "import itertools\n",
    "import re\n",
    "from nltk.corpus import stopwords\n",
    "from nltk.stem.porter import PorterStemmer\n",
    "from nltk.stem import WordNetLemmatizer\n",
    "from sklearn.ensemble import RandomForestClassifier \n",
    "from sklearn.cross_validation import StratifiedKFold,cross_val_score\n",
    "from sklearn.grid_search import GridSearchCV\n",
    "from mpl_toolkits.mplot3d import axes3d\n",
    "import matplotlib.pyplot as plt\n",
    "from matplotlib import cm\n",
    "\n",
    "import psycopg2\n",
    "import pandas as pd\n",
    "import numpy as np\n",
    "import sqlalchemy as sa\n",
    "from sqlalchemy_utils import database_exists, create_database\n",
    "%matplotlib inline\n",
    "\n",
    "plt.rcParams['figure.figsize'] = 10, 8  # plotsize\n",
    "plt.rcParams['lines.linewidth'] = 2\n",
    "plt.rcParams['lines.color'] = 'r'\n",
    "plt.rcParams['font.size'] = 14\n",
    "\n",
    "def text_cleaner(html): # return a single line of cleaned text\n",
    "    '''\n",
    "    This function just cleans up the raw html.\n",
    "    Inputs: a URL to investigate\n",
    "    Outputs: Cleaned text only after parsing, tokenization, lemmerization, remove stop-words\n",
    "    '''\n",
    "    try:\n",
    "        site = urllib2.urlopen(html).read() # Connect to the job posting\n",
    "    except:\n",
    "        print \"Error loading \" + html\n",
    "        return   # Need this in case the website isn't there anymore or some other weird connection problem \n",
    "\n",
    "    soup_obj = BeautifulSoup(site,\"lxml\") # Get the html from the site\n",
    "\n",
    "    for script in soup_obj([\"script\", \"style\"]):\n",
    "        script.extract() # Remove these two elements from the BS4 object\n",
    "    \n",
    "    text = soup_obj.body.get_text('\\n') # Get the text from this\n",
    "\n",
    "    lines = (line.strip() for line in text.splitlines()) # break into lines\n",
    "#    lines = [line for i, line in enumerate(lines) if i>16]\n",
    "#    for line in lines:\n",
    "#        print line\n",
    "    chunks = (phrase.strip() for line in lines for phrase in line.split(\"  \")) # break multi-headlines into a line each\n",
    "    \n",
    "    def chunk_space(chunk):\n",
    "        chunk_out = chunk + ' ' # Need to fix spacing issue\n",
    "        return chunk_out  \n",
    "\n",
    "    text = ''.join(chunk_space(chunk) for chunk in chunks if chunk).encode('utf-8') # Get rid of all blank lines and ends of line\n",
    "\n",
    "    # Now clean out all of the unicode junk (this line works great!!!)\n",
    "    try:\n",
    "        text = text.decode('unicode_escape').encode('ascii', 'ignore') # Need this as some websites aren't formatted\n",
    "    except:                                                            # in a way that this works, can occasionally throw\n",
    "        return                                                         # an exception\n",
    "\n",
    "    text = re.sub(\"[^a-zA-Z+3]\",\" \", text)  # Now get rid of any terms that aren't words (include 3 for d3.js)\n",
    "                                                # Also include + for C++\n",
    "        \n",
    "    # remove the junk from the beginning and end parts of Indeed\n",
    "    try:\n",
    "        text = ((text.lower()).split('advanced search')[1]).split('save resume')[0]\n",
    "    except:\n",
    "        return text\n",
    "    \n",
    "    return text\n",
    "\n",
    "def Preprocessing_line(line): # perform tokenization, select noun, Lemmertization etc on a line text\n",
    "    rtext=[]    \n",
    "    for w, tag in nltk.pos_tag(nltk.word_tokenize(line.lower())):  # Tokenization\n",
    "        if tag in ['NN']:  # Keep only Nouns (for this special case)\n",
    "            rtext.append(w)\n",
    "    \n",
    "    wordnet_lemmatizer = WordNetLemmatizer()  # Lemmertization\n",
    "    rtext = [wordnet_lemmatizer.lemmatize(w) for w in rtext]\n",
    "            \n",
    "    stop_words = set(stopwords.words(\"english\")) # Filter out any stop words\n",
    "    rtext = [w for w in rtext if not w in stop_words]\n",
    "    \n",
    "    return rtext # return list of tokens"
   ]
  },
  {
   "cell_type": "markdown",
   "metadata": {},
   "source": [
    "### V5: consider using the classification probability as the matching degree (different from V4)"
   ]
  },
  {
   "cell_type": "code",
   "execution_count": 2,
   "metadata": {
    "collapsed": true
   },
   "outputs": [],
   "source": [
    "def LSI_tfidf_model(dictionary, mm, tfidfmodel, num_topics=200):\n",
    "    corpus_tfidf = tfidfmodel[mm]  # transform to tfidf space and then perform LSI\n",
    "    \n",
    "    lsimodel = models.LsiModel(corpus_tfidf, id2word=dictionary, num_topics=num_topics) # initialize an LSI transformation\n",
    "    lsimodel.show_topics(num_topics=10, num_words=20)\n",
    "    lsimodel.print_topics(num_topics=5, num_words=10)\n",
    "    \n",
    "    corpus_lsi = lsimodel[corpus_tfidf] # doc-topic matrix in LSI space\n",
    "    \n",
    "    index = similarities.MatrixSimilarity(corpus_lsi) # transform corpus to LSI\n",
    "    \n",
    "    return lsimodel, corpus_lsi, index  # all in the tfidf space (instead of bag-of-words)"
   ]
  },
  {
   "cell_type": "markdown",
   "metadata": {},
   "source": [
    "## Validation through text classification using document-topic matrix"
   ]
  },
  {
   "cell_type": "markdown",
   "metadata": {},
   "source": [
    "### load the jobs table"
   ]
  },
  {
   "cell_type": "code",
   "execution_count": 3,
   "metadata": {
    "collapsed": true
   },
   "outputs": [],
   "source": [
    "path = '/home/hxzheng/Insight_DS_Fellowship/Project/JobRecomm/Resume_text/'"
   ]
  },
  {
   "cell_type": "code",
   "execution_count": 4,
   "metadata": {
    "collapsed": false
   },
   "outputs": [
    {
     "name": "stderr",
     "output_type": "stream",
     "text": [
      "WARNING:gensim.similarities.docsim:scanning corpus to determine the number of features (consider setting `num_features` explicitly)\n"
     ]
    }
   ],
   "source": [
    "j=1\n",
    "num_topics=100\n",
    "jobs=pd.read_pickle(path + \"jobs_table.dat\") \n",
    "dictionary = gensim.corpora.Dictionary.load(path + 'dict'+str(j)+'.dict')\n",
    "mm = gensim.corpora.MmCorpus(path + 'corpus'+str(j)+'.mm')\n",
    "tfidfmodel = models.TfidfModel.load(path + 'tfidfmodel'+str(j)+'.tfidf')\n",
    "\n",
    "lsimodel,corpus_lsi,index = LSI_tfidf_model(dictionary, mm, tfidfmodel, num_topics=num_topics)"
   ]
  },
  {
   "cell_type": "code",
   "execution_count": 5,
   "metadata": {
    "collapsed": true
   },
   "outputs": [],
   "source": [
    "### save index for later similarity queries\n",
    "\n",
    "index.save(path + 'final_lsimodel.index')\n",
    "lsimodel.save(path + 'final_lsimodel.lsi')"
   ]
  },
  {
   "cell_type": "code",
   "execution_count": 6,
   "metadata": {
    "collapsed": true
   },
   "outputs": [],
   "source": [
    "xtrain, ytrain = [], []\n",
    "for i,doc_lsi in enumerate(corpus_lsi):\n",
    "    if doc_lsi!=[]:                              # filter out empty documents\n",
    "        xtrain.append([w[1] for w in doc_lsi])\n",
    "        ytrain.append(jobs.ix[i]['jobid'])\n",
    "\n",
    "xtrain = np.array(xtrain)\n",
    "ytrain = np.array(ytrain)"
   ]
  },
  {
   "cell_type": "code",
   "execution_count": 7,
   "metadata": {
    "collapsed": false,
    "scrolled": true
   },
   "outputs": [
    {
     "data": {
      "text/plain": [
       "(4,)"
      ]
     },
     "execution_count": 7,
     "metadata": {},
     "output_type": "execute_result"
    }
   ],
   "source": [
    "np.unique(ytrain).shape"
   ]
  },
  {
   "cell_type": "code",
   "execution_count": 8,
   "metadata": {
    "collapsed": false,
    "scrolled": true
   },
   "outputs": [
    {
     "data": {
      "text/plain": [
       "2816"
      ]
     },
     "execution_count": 8,
     "metadata": {},
     "output_type": "execute_result"
    }
   ],
   "source": [
    "ytrain.shape[0]"
   ]
  },
  {
   "cell_type": "code",
   "execution_count": 9,
   "metadata": {
    "collapsed": true
   },
   "outputs": [],
   "source": [
    "RF = RandomForestClassifier(n_estimators = 500, n_jobs = -1,random_state =100, \\\n",
    "                                    max_features = \"auto\", min_samples_leaf = 1)\n",
    "RF = RF.fit(xtrain,ytrain)"
   ]
  },
  {
   "cell_type": "code",
   "execution_count": 10,
   "metadata": {
    "collapsed": false
   },
   "outputs": [
    {
     "name": "stdout",
     "output_type": "stream",
     "text": [
      "[[ 0.958  0.012  0.016  0.014]]\n"
     ]
    },
    {
     "name": "stderr",
     "output_type": "stream",
     "text": [
      "/home/hxzheng/anaconda2/lib/python2.7/site-packages/sklearn/utils/validation.py:386: DeprecationWarning: Passing 1d arrays as data is deprecated in 0.17 and willraise ValueError in 0.19. Reshape your data either using X.reshape(-1, 1) if your data has a single feature or X.reshape(1, -1) if it contains a single sample.\n",
      "  DeprecationWarning)\n"
     ]
    }
   ],
   "source": [
    "print RF.predict_proba(xtrain[0,:])"
   ]
  },
  {
   "cell_type": "code",
   "execution_count": 11,
   "metadata": {
    "collapsed": true
   },
   "outputs": [],
   "source": [
    "### save the trained model\n",
    "\n",
    "with open(path+'Final_RF_LSIMODEL.pkl', 'wb') as outfile:\n",
    "    pickle.dump(RF, outfile, protocol =2)  \n",
    "    \n",
    "RF_Model=pd.read_pickle(path+'Final_RF_LSIMODEL.pkl')      "
   ]
  },
  {
   "cell_type": "code",
   "execution_count": 12,
   "metadata": {
    "collapsed": false
   },
   "outputs": [
    {
     "name": "stdout",
     "output_type": "stream",
     "text": [
      "[[ 0.958  0.012  0.016  0.014]]\n"
     ]
    },
    {
     "name": "stderr",
     "output_type": "stream",
     "text": [
      "/home/hxzheng/anaconda2/lib/python2.7/site-packages/sklearn/utils/validation.py:386: DeprecationWarning: Passing 1d arrays as data is deprecated in 0.17 and willraise ValueError in 0.19. Reshape your data either using X.reshape(-1, 1) if your data has a single feature or X.reshape(1, -1) if it contains a single sample.\n",
      "  DeprecationWarning)\n"
     ]
    }
   ],
   "source": [
    "y_ex1=RF_Model.predict_proba(xtrain[0,:])\n",
    "print y_ex1"
   ]
  },
  {
   "cell_type": "code",
   "execution_count": 41,
   "metadata": {
    "collapsed": false,
    "scrolled": true
   },
   "outputs": [
    {
     "name": "stdout",
     "output_type": "stream",
     "text": [
      "[0 1 2 3]\n",
      "[ 0.02079976  0.1634093   0.14488351  0.05587884  0.0331943   0.01879571\n",
      "  0.0263448   0.01381791  0.02816849  0.00918089  0.01130591  0.00921043\n",
      "  0.01364426  0.00756931  0.01170013  0.01306944  0.01028931  0.00714943\n",
      "  0.00878518  0.00837256  0.00665952  0.00715278  0.00605817  0.0061368\n",
      "  0.00864527  0.01000951  0.00546015  0.00515057  0.005052    0.00590262\n",
      "  0.00606694  0.00604078  0.00565727  0.00474027  0.00565599  0.0044648\n",
      "  0.00564315  0.00572807  0.00516846  0.00443554  0.00474184  0.00470421\n",
      "  0.00568515  0.00490464  0.00565749  0.00476694  0.0054629   0.00418462\n",
      "  0.00401752  0.00441879  0.00404806  0.00507735  0.00420125  0.00475698\n",
      "  0.00461063  0.00402004  0.00464906  0.00472696  0.00460473  0.00502911\n",
      "  0.0044981   0.00406455  0.00444142  0.00444587  0.00435792  0.00416808\n",
      "  0.00441374  0.00445202  0.00404494  0.00457337  0.00434221  0.00408071\n",
      "  0.00404521  0.00437078  0.0039918   0.00397225  0.00417522  0.00447856\n",
      "  0.00413301  0.0043543   0.0042102   0.00414444  0.00476831  0.00413755\n",
      "  0.00433568  0.00386268  0.00468497  0.00404967  0.00392949  0.00461192\n",
      "  0.00405277  0.00459721  0.00416003  0.0041528   0.00412006  0.00407942\n",
      "  0.00425447  0.00398907  0.00443337  0.00435544]\n"
     ]
    }
   ],
   "source": [
    "print RF.classes_\n",
    "feature_rank = RF.feature_importances_\n",
    "print feature_rank"
   ]
  },
  {
   "cell_type": "code",
   "execution_count": 42,
   "metadata": {
    "collapsed": false
   },
   "outputs": [
    {
     "data": {
      "image/png": "[encoded data removed]",
      "text/plain": [
       "<matplotlib.figure.Figure at 0x7f6d7afcab50>"
      ]
     },
     "metadata": {},
     "output_type": "display_data"
    }
   ],
   "source": [
    "### Visualization of feature important\n",
    "nkeep =20\n",
    "feature_name = ['Topic #'+str(i) for i in xrange(len(feature_rank))]\n",
    "y_pos = np.arange(len(feature_name))\n",
    "\n",
    "feature_name = feature_name[:nkeep]\n",
    "y_pos = y_pos[:nkeep]\n",
    "feature_rank = feature_rank[:nkeep]\n",
    "\n",
    "feature_name.reverse()  # reverse the order \n",
    "feature_rank = feature_rank[::-1]\n",
    "\n",
    "\n",
    "plt.figure()\n",
    "plt.barh(y_pos, feature_rank,  align='center', alpha=1.0,color='b')\n",
    "plt.yticks(y_pos, feature_name)\n",
    "plt.xlabel('Feature Importance')\n",
    "plt.ylim(-1,21)\n",
    "plt.savefig(path + 'Feature_Importance_RFClassifier.png', bbox_inches='tight')"
   ]
  },
  {
   "cell_type": "code",
   "execution_count": 32,
   "metadata": {
    "collapsed": true
   },
   "outputs": [],
   "source": [
    "TopTopics = lsimodel.show_topics(num_topics=10, num_words=50)"
   ]
  },
  {
   "cell_type": "code",
   "execution_count": 37,
   "metadata": {
    "collapsed": false
   },
   "outputs": [
    {
     "name": "stdout",
     "output_type": "stream",
     "text": [
      "The 1th top topic is:\n",
      "(1, u'0.373*\"marketing\" + 0.224*\"strategy\" + -0.197*\"software\" + -0.187*\"application\" + -0.163*\"engineer\" + 0.159*\"brand\" + 0.157*\"market\" + -0.153*\"test\" + -0.142*\"java\" + 0.130*\"product\" + -0.129*\"server\" + 0.128*\"manager\" + -0.123*\"sql\" + -0.116*\"web\" + 0.114*\"revenue\" + -0.106*\"oracle\" + 0.101*\"growth\" + -0.100*\"system\" + -0.096*\"code\" + -0.094*\"developer\" + -0.092*\"javascript\" + -0.090*\"spring\" + -0.089*\"j\" + -0.085*\"framework\" + -0.085*\"design\" + -0.081*\"database\" + -0.081*\"jquery\" + 0.079*\"customer\" + 0.078*\"advertising\" + -0.078*\"html\" + 0.075*\"consumer\" + 0.072*\"pricing\" + 0.071*\"campaign\" + -0.070*\"environment\" + 0.068*\"program\" + 0.068*\"director\" + -0.065*\"c\" + 0.064*\"year\" + -0.063*\"mvc\" + -0.062*\"c++\" + 0.061*\"launch\" + 0.061*\"business\" + -0.060*\"ee\" + -0.060*\"cs\" + -0.060*\"net\" + 0.060*\"budget\" + -0.056*\"interface\" + -0.055*\"description\" + 0.055*\"leadership\" + -0.055*\"architecture\"')\n",
      "\n",
      "\n",
      "The 2th top topic is:\n",
      "(2, u'0.239*\"scientist\" + -0.227*\"marketing\" + 0.192*\"research\" + 0.190*\"machine\" + 0.188*\"university\" + 0.171*\"r\" + 0.151*\"analysis\" + 0.146*\"algorithm\" + 0.146*\"science\" + 0.144*\"sa\" + -0.136*\"application\" + 0.135*\"model\" + 0.133*\"mining\" + 0.127*\"regression\" + 0.119*\"risk\" + -0.118*\"product\" + -0.114*\"brand\" + -0.110*\"test\" + 0.108*\"modeling\" + 0.105*\"python\" + -0.100*\"strategy\" + 0.099*\"assistant\" + -0.098*\"software\" + -0.097*\"web\" + 0.089*\"learning\" + 0.087*\"visualization\" + -0.087*\"engineer\" + 0.087*\"decision\" + 0.086*\"hadoop\" + 0.086*\"matlab\" + 0.075*\"fraud\" + 0.073*\"graduate\" + 0.073*\"classification\" + 0.072*\"data\" + -0.071*\"jquery\" + -0.069*\"spring\" + 0.069*\"analyst\" + -0.068*\"javascript\" + -0.066*\"java\" + 0.063*\"simulation\" + -0.063*\"oracle\" + 0.063*\"detection\" + 0.061*\"tableau\" + 0.061*\"series\" + -0.060*\"server\" + -0.059*\"development\" + 0.059*\"state\" + -0.057*\"mvc\" + 0.057*\"prediction\" + -0.056*\"developer\"')\n",
      "\n",
      "\n",
      "The 3th top topic is:\n",
      "(3, u'0.391*\"marketing\" + 0.176*\"brand\" + -0.139*\"compliance\" + 0.124*\"machine\" + 0.116*\"scientist\" + -0.114*\"process\" + 0.107*\"algorithm\" + 0.106*\"advertising\" + -0.104*\"project\" + 0.103*\"research\" + -0.102*\"supply\" + 0.099*\"java\" + 0.099*\"search\" + 0.097*\"r\" + -0.097*\"bank\" + -0.097*\"inventory\" + -0.096*\"management\" + 0.096*\"web\" + -0.095*\"consultant\" + -0.095*\"chain\" + 0.094*\"python\" + 0.094*\"university\" + 0.092*\"campaign\" + -0.092*\"risk\" + -0.091*\"business\" + 0.082*\"science\" + 0.082*\"product\" + -0.081*\"training\" + -0.079*\"cash\" + 0.078*\"content\" + -0.075*\"audit\" + -0.074*\"service\" + -0.074*\"improvement\" + -0.073*\"change\" + -0.072*\"finance\" + -0.072*\"quality\" + -0.071*\"office\" + -0.069*\"cost\" + 0.068*\"software\" + 0.068*\"c++\" + -0.067*\"tax\" + 0.067*\"mining\" + 0.067*\"hadoop\" + -0.065*\"reporting\" + 0.064*\"javascript\" + 0.063*\"b\" + -0.063*\"accounting\" + -0.061*\"support\" + 0.061*\"com\" + -0.061*\"credit\"')\n",
      "\n",
      "\n",
      "The 4th top topic is:\n",
      "(4, u'0.255*\"test\" + 0.172*\"risk\" + -0.171*\"university\" + 0.140*\"model\" + 0.131*\"bank\" + 0.130*\"sa\" + -0.127*\"office\" + 0.122*\"market\" + 0.118*\"regression\" + -0.116*\"staff\" + -0.116*\"service\" + 0.112*\"pricing\" + 0.112*\"analysis\" + 0.111*\"business\" + -0.105*\"food\" + -0.104*\"store\" + -0.100*\"health\" + 0.098*\"product\" + -0.098*\"assistant\" + -0.097*\"school\" + -0.097*\"community\" + -0.097*\"education\" + -0.095*\"safety\" + -0.094*\"state\" + -0.092*\"computer\" + 0.092*\"portfolio\" + -0.091*\"department\" + 0.090*\"automation\" + 0.089*\"credit\" + -0.088*\"student\" + -0.083*\"training\" + -0.080*\"college\" + -0.079*\"program\" + 0.079*\"strategy\" + 0.077*\"banking\" + 0.076*\"sql\" + -0.076*\"inventory\" + -0.075*\"employee\" + -0.075*\"consultant\" + -0.074*\"research\" + 0.072*\"finance\" + -0.072*\"care\" + 0.070*\"r\" + -0.069*\"equipment\" + 0.069*\"reporting\" + 0.068*\"investment\" + -0.068*\"content\" + -0.067*\"security\" + 0.067*\"decision\" + -0.066*\"event\"')\n",
      "\n",
      "\n"
     ]
    }
   ],
   "source": [
    "for i in range(1,5,1):\n",
    "    print \"The %dth top topic is:\"%i\n",
    "    print TopTopics[i]\n",
    "    print '\\n'"
   ]
  },
  {
   "cell_type": "markdown",
   "metadata": {},
   "source": [
    "### Example case"
   ]
  },
  {
   "cell_type": "code",
   "execution_count": null,
   "metadata": {
    "collapsed": false
   },
   "outputs": [],
   "source": [
    "html = 'http://www.indeed.com/r/Vadim-s/f365459c83af555d'\n",
    "line = text_cleaner(html)\n",
    "doc = Preprocessing_line(line)\n",
    "vec_bow = dictionary.doc2bow(doc)\n",
    "vec_lsi = lsimodel[tfidfmodel[vec_bow]] # convert the query to tfidf->LSI space\n",
    "x_lsi = [weight for _,weight in vec_lsi]\n",
    "\n",
    "ypred_proba=RF_Model.predict_proba(x_lsi)\n",
    "print ypred_proba\n",
    "print np.argmax(ypred_proba[0])"
   ]
  },
  {
   "cell_type": "code",
   "execution_count": null,
   "metadata": {
    "collapsed": true
   },
   "outputs": [],
   "source": []
  }
 ],
 "metadata": {
  "kernelspec": {
   "display_name": "Python 2",
   "language": "python",
   "name": "python2"
  },
  "language_info": {
   "codemirror_mode": {
    "name": "ipython",
    "version": 2
   },
   "file_extension": ".py",
   "mimetype": "text/x-python",
   "name": "python",
   "nbconvert_exporter": "python",
   "pygments_lexer": "ipython2",
   "version": "2.7.11"
  }
 },
 "nbformat": 4,
 "nbformat_minor": 0
}
